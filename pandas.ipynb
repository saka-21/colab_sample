{
  "nbformat": 4,
  "nbformat_minor": 0,
  "metadata": {
    "kernelspec": {
      "display_name": "Python 3",
      "language": "python",
      "name": "python3"
    },
    "language_info": {
      "codemirror_mode": {
        "name": "ipython",
        "version": 3
      },
      "file_extension": ".py",
      "mimetype": "text/x-python",
      "name": "python",
      "nbconvert_exporter": "python",
      "pygments_lexer": "ipython3",
      "version": "3.5.4"
    },
    "colab": {
      "name": "pandas.ipynb",
      "provenance": [],
      "collapsed_sections": [],
      "include_colab_link": true
    }
  },
  "cells": [
    {
      "cell_type": "markdown",
      "metadata": {
        "id": "view-in-github",
        "colab_type": "text"
      },
      "source": [
        "<a href=\"https://colab.research.google.com/github/saka-21/colab_sample/blob/main/pandas.ipynb\" target=\"_parent\"><img src=\"https://colab.research.google.com/assets/colab-badge.svg\" alt=\"Open In Colab\"/></a>"
      ]
    },
    {
      "cell_type": "markdown",
      "metadata": {
        "id": "8PEI59mRTLnr"
      },
      "source": [
        "# Pandasの基礎\n",
        "PandasはPythonでデータ分析を行うためのライブラリで、データの読み込みや編集、統計量の表示などを簡単に行うことができます。  \n",
        "主要なコードはCythonまたはC言語で書かれており、高速に動作します。  \n",
        "このため、PandasはPythonによるデータ分析や機械学習でよく使われます。  "
      ]
    },
    {
      "cell_type": "markdown",
      "metadata": {
        "id": "fvXEKAa4Gwgo"
      },
      "source": [
        "Pandasのデータ構造にはSeries（一次元）とDataFrame（二次元）があります。  "
      ]
    },
    {
      "cell_type": "markdown",
      "metadata": {
        "id": "RRtewqUt-T0z"
      },
      "source": [
        "## ●Seriesの作成  \n",
        "Seriesはラベル付きの一次元の配列で、整数や少数、文字列など様々な型のデータを格納することができます。  \n",
        "以下は、リストからSeriesを作る例です。  \n",
        "ラベルは`index`で指定します。"
      ]
    },
    {
      "cell_type": "code",
      "metadata": {
        "id": "HyKwLbexAJsE",
        "colab": {
          "base_uri": "https://localhost:8080/"
        },
        "outputId": "1aed8a7f-5b6b-4d2b-d341-c0fb738122b1"
      },
      "source": [
        "import pandas as pd\n",
        "import numpy as np\n",
        "a = pd.Series([60, 80, 70, 50, 30], index=[\"Japanese\", \"English\", \"Math\", \"Science\", \"History\"])\n",
        "print(type(a))\n",
        "print(a)"
      ],
      "execution_count": 2,
      "outputs": [
        {
          "output_type": "stream",
          "text": [
            "<class 'pandas.core.series.Series'>\n",
            "Japanese    60\n",
            "English     80\n",
            "Math        70\n",
            "Science     50\n",
            "History     30\n",
            "dtype: int64\n"
          ],
          "name": "stdout"
        }
      ]
    },
    {
      "cell_type": "markdown",
      "metadata": {
        "id": "mU5FhLgzDuI_"
      },
      "source": [
        "上記ではリストとしてデータとラベルを渡していますが、NumPyの配列を使っても構いません。"
      ]
    },
    {
      "cell_type": "code",
      "metadata": {
        "id": "qWROtvnyCmv9",
        "colab": {
          "base_uri": "https://localhost:8080/"
        },
        "outputId": "3b4618f2-2641-4ec0-df0d-5a1f233aa6b1"
      },
      "source": [
        "a = pd.Series(np.array([60, 80, 70, 50, 30]), index=np.array([\"Japanese\", \"English\", \"Math\", \"Science\", \"History\"]))\n",
        "print(type(a))\n",
        "print(a)"
      ],
      "execution_count": 3,
      "outputs": [
        {
          "output_type": "stream",
          "text": [
            "<class 'pandas.core.series.Series'>\n",
            "Japanese    60\n",
            "English     80\n",
            "Math        70\n",
            "Science     50\n",
            "History     30\n",
            "dtype: int64\n"
          ],
          "name": "stdout"
        }
      ]
    },
    {
      "cell_type": "markdown",
      "metadata": {
        "id": "Qnk7Ev_AFFf1"
      },
      "source": [
        "Seriesは、辞書から作ることもできます。"
      ]
    },
    {
      "cell_type": "code",
      "metadata": {
        "id": "bcc2Ic8jFpIZ",
        "colab": {
          "base_uri": "https://localhost:8080/"
        },
        "outputId": "93ef2e3d-dd53-451f-bb8b-eec420f7c41b"
      },
      "source": [
        "a = pd.Series({\"Japanese\":60, \"English\":80, \"Math\":70, \"Science\":50, \"History\":30})\n",
        "print(type(a))\n",
        "print(a)"
      ],
      "execution_count": 4,
      "outputs": [
        {
          "output_type": "stream",
          "text": [
            "<class 'pandas.core.series.Series'>\n",
            "Japanese    60\n",
            "English     80\n",
            "Math        70\n",
            "Science     50\n",
            "History     30\n",
            "dtype: int64\n"
          ],
          "name": "stdout"
        }
      ]
    },
    {
      "cell_type": "markdown",
      "metadata": {
        "id": "GJMOkoiaFmeL"
      },
      "source": [
        "## ●Seriesの操作  \n",
        "インデックスやラベルを使って、Seriesのデータの操作を行うことができます。  \n",
        "以下は、データにアクセスする例です。"
      ]
    },
    {
      "cell_type": "code",
      "metadata": {
        "id": "eVZS5efCLGeA",
        "colab": {
          "base_uri": "https://localhost:8080/"
        },
        "outputId": "469a4025-7785-49c7-f006-a1a36ee5ac8c"
      },
      "source": [
        "a = pd.Series([60, 80, 70, 50, 30], index=[\"Japanese\", \"English\", \"Math\", \"Science\", \"History\"])\n",
        "print(a[2])  # インデックスを指定\n",
        "print(a[\"Math\"])  # ラベルを指定"
      ],
      "execution_count": 5,
      "outputs": [
        {
          "output_type": "stream",
          "text": [
            "70\n",
            "70\n"
          ],
          "name": "stdout"
        }
      ]
    },
    {
      "cell_type": "markdown",
      "metadata": {
        "id": "pZoME04WLtNR"
      },
      "source": [
        "`append`を使ってデータを追加することができます。"
      ]
    },
    {
      "cell_type": "code",
      "metadata": {
        "id": "rh2ylNnpMlGK",
        "colab": {
          "base_uri": "https://localhost:8080/"
        },
        "outputId": "80979846-21de-4e58-d05e-c434ee345c32"
      },
      "source": [
        "a = pd.Series([60, 80, 70, 50, 30], index=[\"Japanese\", \"English\", \"Math\", \"Science\", \"History\"])\n",
        "b = pd.Series([20], index=[\"Art\"])\n",
        "a = a.append(b)\n",
        "print(a)"
      ],
      "execution_count": 6,
      "outputs": [
        {
          "output_type": "stream",
          "text": [
            "Japanese    60\n",
            "English     80\n",
            "Math        70\n",
            "Science     50\n",
            "History     30\n",
            "Art         20\n",
            "dtype: int64\n"
          ],
          "name": "stdout"
        }
      ]
    },
    {
      "cell_type": "markdown",
      "metadata": {
        "id": "5WhPDnlwN-0M"
      },
      "source": [
        "その他、データの変更や削除、Series同士の結合なども可能です。  \n",
        "詳細については、公式ドキュメントなどを参考にしましょう。  \n",
        "https://pandas.pydata.org/pandas-docs/stable/getting_started/10min.html"
      ]
    },
    {
      "cell_type": "markdown",
      "metadata": {
        "id": "Lfd5_xOHTLnx"
      },
      "source": [
        "## ●DataFrameの作成\n",
        "DataFrameはラベル付きの二次元の配列で、整数や少数、文字列など様々な型のデータを格納することができます。  \n",
        "以下は、二次元のリストからDataFrameを作る例です。  "
      ]
    },
    {
      "cell_type": "code",
      "metadata": {
        "id": "S4WV4FcFTLny",
        "colab": {
          "base_uri": "https://localhost:8080/",
          "height": 235
        },
        "outputId": "3a2d83e8-069b-4077-81b9-bdab288d8585"
      },
      "source": [
        "a = pd.DataFrame([[80, 60, 70, True],\n",
        "                  [90, 80, 70, True],\n",
        "                  [70, 60, 75, True],\n",
        "                  [40, 60, 50, False],\n",
        "                  [20, 30, 40, False],\n",
        "                  [50, 20, 10, False]])\n",
        "a "
      ],
      "execution_count": 7,
      "outputs": [
        {
          "output_type": "execute_result",
          "data": {
            "text/html": [
              "<div>\n",
              "<style scoped>\n",
              "    .dataframe tbody tr th:only-of-type {\n",
              "        vertical-align: middle;\n",
              "    }\n",
              "\n",
              "    .dataframe tbody tr th {\n",
              "        vertical-align: top;\n",
              "    }\n",
              "\n",
              "    .dataframe thead th {\n",
              "        text-align: right;\n",
              "    }\n",
              "</style>\n",
              "<table border=\"1\" class=\"dataframe\">\n",
              "  <thead>\n",
              "    <tr style=\"text-align: right;\">\n",
              "      <th></th>\n",
              "      <th>0</th>\n",
              "      <th>1</th>\n",
              "      <th>2</th>\n",
              "      <th>3</th>\n",
              "    </tr>\n",
              "  </thead>\n",
              "  <tbody>\n",
              "    <tr>\n",
              "      <th>0</th>\n",
              "      <td>80</td>\n",
              "      <td>60</td>\n",
              "      <td>70</td>\n",
              "      <td>True</td>\n",
              "    </tr>\n",
              "    <tr>\n",
              "      <th>1</th>\n",
              "      <td>90</td>\n",
              "      <td>80</td>\n",
              "      <td>70</td>\n",
              "      <td>True</td>\n",
              "    </tr>\n",
              "    <tr>\n",
              "      <th>2</th>\n",
              "      <td>70</td>\n",
              "      <td>60</td>\n",
              "      <td>75</td>\n",
              "      <td>True</td>\n",
              "    </tr>\n",
              "    <tr>\n",
              "      <th>3</th>\n",
              "      <td>40</td>\n",
              "      <td>60</td>\n",
              "      <td>50</td>\n",
              "      <td>False</td>\n",
              "    </tr>\n",
              "    <tr>\n",
              "      <th>4</th>\n",
              "      <td>20</td>\n",
              "      <td>30</td>\n",
              "      <td>40</td>\n",
              "      <td>False</td>\n",
              "    </tr>\n",
              "    <tr>\n",
              "      <th>5</th>\n",
              "      <td>50</td>\n",
              "      <td>20</td>\n",
              "      <td>10</td>\n",
              "      <td>False</td>\n",
              "    </tr>\n",
              "  </tbody>\n",
              "</table>\n",
              "</div>"
            ],
            "text/plain": [
              "    0   1   2      3\n",
              "0  80  60  70   True\n",
              "1  90  80  70   True\n",
              "2  70  60  75   True\n",
              "3  40  60  50  False\n",
              "4  20  30  40  False\n",
              "5  50  20  10  False"
            ]
          },
          "metadata": {
            "tags": []
          },
          "execution_count": 7
        }
      ]
    },
    {
      "cell_type": "markdown",
      "metadata": {
        "id": "7EVVx2ydX8FV"
      },
      "source": [
        "DataFrameはSeriesや辞書、NumPyの配列から作ることも可能です。  \n",
        "行と列には、ラベルをつけることができます。\n"
      ]
    },
    {
      "cell_type": "code",
      "metadata": {
        "id": "zF_wUnEWWdeU",
        "colab": {
          "base_uri": "https://localhost:8080/",
          "height": 235
        },
        "outputId": "ee360014-fbc3-4775-80a9-c4be45a3b245"
      },
      "source": [
        "a.index = [\"Taro\", \"Hanako\", \"Jiro\", \"Sachiko\", \"Saburo\", \"Yoko\"]\n",
        "a.columns = [\"Japanese\", \"English\", \"Math\", \"Result\"]\n",
        "a"
      ],
      "execution_count": 8,
      "outputs": [
        {
          "output_type": "execute_result",
          "data": {
            "text/html": [
              "<div>\n",
              "<style scoped>\n",
              "    .dataframe tbody tr th:only-of-type {\n",
              "        vertical-align: middle;\n",
              "    }\n",
              "\n",
              "    .dataframe tbody tr th {\n",
              "        vertical-align: top;\n",
              "    }\n",
              "\n",
              "    .dataframe thead th {\n",
              "        text-align: right;\n",
              "    }\n",
              "</style>\n",
              "<table border=\"1\" class=\"dataframe\">\n",
              "  <thead>\n",
              "    <tr style=\"text-align: right;\">\n",
              "      <th></th>\n",
              "      <th>Japanese</th>\n",
              "      <th>English</th>\n",
              "      <th>Math</th>\n",
              "      <th>Result</th>\n",
              "    </tr>\n",
              "  </thead>\n",
              "  <tbody>\n",
              "    <tr>\n",
              "      <th>Taro</th>\n",
              "      <td>80</td>\n",
              "      <td>60</td>\n",
              "      <td>70</td>\n",
              "      <td>True</td>\n",
              "    </tr>\n",
              "    <tr>\n",
              "      <th>Hanako</th>\n",
              "      <td>90</td>\n",
              "      <td>80</td>\n",
              "      <td>70</td>\n",
              "      <td>True</td>\n",
              "    </tr>\n",
              "    <tr>\n",
              "      <th>Jiro</th>\n",
              "      <td>70</td>\n",
              "      <td>60</td>\n",
              "      <td>75</td>\n",
              "      <td>True</td>\n",
              "    </tr>\n",
              "    <tr>\n",
              "      <th>Sachiko</th>\n",
              "      <td>40</td>\n",
              "      <td>60</td>\n",
              "      <td>50</td>\n",
              "      <td>False</td>\n",
              "    </tr>\n",
              "    <tr>\n",
              "      <th>Saburo</th>\n",
              "      <td>20</td>\n",
              "      <td>30</td>\n",
              "      <td>40</td>\n",
              "      <td>False</td>\n",
              "    </tr>\n",
              "    <tr>\n",
              "      <th>Yoko</th>\n",
              "      <td>50</td>\n",
              "      <td>20</td>\n",
              "      <td>10</td>\n",
              "      <td>False</td>\n",
              "    </tr>\n",
              "  </tbody>\n",
              "</table>\n",
              "</div>"
            ],
            "text/plain": [
              "         Japanese  English  Math  Result\n",
              "Taro           80       60    70    True\n",
              "Hanako         90       80    70    True\n",
              "Jiro           70       60    75    True\n",
              "Sachiko        40       60    50   False\n",
              "Saburo         20       30    40   False\n",
              "Yoko           50       20    10   False"
            ]
          },
          "metadata": {
            "tags": []
          },
          "execution_count": 8
        }
      ]
    },
    {
      "cell_type": "markdown",
      "metadata": {
        "id": "Cz3sZz_dDE-l"
      },
      "source": [
        "## ●データの特徴"
      ]
    },
    {
      "cell_type": "markdown",
      "metadata": {
        "id": "7nJL94v7EjQc"
      },
      "source": [
        "`shape`により、データの行数、列数を取得できます。  "
      ]
    },
    {
      "cell_type": "code",
      "metadata": {
        "id": "zZUONW-cEjhM"
      },
      "source": [
        "a.shape  # 行数、列数"
      ],
      "execution_count": null,
      "outputs": []
    },
    {
      "cell_type": "markdown",
      "metadata": {
        "id": "BWCM7AkG_-T9"
      },
      "source": [
        "最初の5行を表示する際は、`head()`を、最後の5行のみを表示する際は`tail()`を使います。  \n",
        "特に行数が多い場合に、データの概要を把握するのに便利です。  "
      ]
    },
    {
      "cell_type": "code",
      "metadata": {
        "id": "6aveUK09_-8x"
      },
      "source": [
        "a.head()  # 最初の5行"
      ],
      "execution_count": null,
      "outputs": []
    },
    {
      "cell_type": "code",
      "metadata": {
        "id": "D4qdYNkaAbD-"
      },
      "source": [
        "a.tail()  # 最後の5行"
      ],
      "execution_count": null,
      "outputs": []
    },
    {
      "cell_type": "markdown",
      "metadata": {
        "id": "hCOjxyxhBXNR"
      },
      "source": [
        "　基本的な統計量は、`describe()`で一度に表示することができます。"
      ]
    },
    {
      "cell_type": "code",
      "metadata": {
        "id": "gN09h-5A9IFv"
      },
      "source": [
        "a.describe()  # 基本的な統計量"
      ],
      "execution_count": null,
      "outputs": []
    },
    {
      "cell_type": "markdown",
      "metadata": {
        "id": "bTVNyEvsELv-"
      },
      "source": [
        "これらの値は、`mean()`や`max()`などのメソッドで個別に取得することもできます。"
      ]
    },
    {
      "cell_type": "markdown",
      "metadata": {
        "id": "7MSjXvYCH3Hp"
      },
      "source": [
        "## ●DataFrameの操作  \n",
        "インデックスやラベルを使って、DataFrameのデータの操作を行うことができます。  \n",
        "以下のコードでは、`loc()`メソッドを使って範囲を指定し、Seriesデータを取り出しています。"
      ]
    },
    {
      "cell_type": "code",
      "metadata": {
        "id": "mUK-yMCd_8A7",
        "colab": {
          "base_uri": "https://localhost:8080/"
        },
        "outputId": "a9c73975-84f7-4236-bdba-561031cd7869"
      },
      "source": [
        "tr = a.loc[\"Taro\", :]  # 一行取り出す\n",
        "print(type(tr))\n",
        "tr"
      ],
      "execution_count": 9,
      "outputs": [
        {
          "output_type": "stream",
          "text": [
            "<class 'pandas.core.series.Series'>\n"
          ],
          "name": "stdout"
        },
        {
          "output_type": "execute_result",
          "data": {
            "text/plain": [
              "Japanese      80\n",
              "English       60\n",
              "Math          70\n",
              "Result      True\n",
              "Name: Taro, dtype: object"
            ]
          },
          "metadata": {
            "tags": []
          },
          "execution_count": 9
        }
      ]
    },
    {
      "cell_type": "markdown",
      "metadata": {
        "id": "7n5YQepkDny2"
      },
      "source": [
        "取り出した行の型がSeriesになっていることが確認できますね。  \n",
        "同様にして、DataFrameから列を取り出すこともできます。"
      ]
    },
    {
      "cell_type": "code",
      "metadata": {
        "id": "U6G4tUSSQPal"
      },
      "source": [
        "ma = a.loc[:, \"English\"]  # 一列取り出す\n",
        "print(type(ma))\n",
        "ma"
      ],
      "execution_count": null,
      "outputs": []
    },
    {
      "cell_type": "markdown",
      "metadata": {
        "id": "-5CAPT2OEd8J"
      },
      "source": [
        "こちらもSeries型ですね。  \n",
        "`iloc`を使えばインデックスにより範囲を指定することも可能です。"
      ]
    },
    {
      "cell_type": "code",
      "metadata": {
        "id": "nW8SR2UZEbg_"
      },
      "source": [
        "r = a.iloc[1:4, :2]  # 行:1-3、列:0-1\n",
        "print(type(r))\n",
        "r"
      ],
      "execution_count": null,
      "outputs": []
    },
    {
      "cell_type": "markdown",
      "metadata": {
        "id": "kit0y2IIIc7f"
      },
      "source": [
        "`loc()`メソッドにより、行を追加することができます。"
      ]
    },
    {
      "cell_type": "code",
      "metadata": {
        "id": "d2u1ZIIgFYWe"
      },
      "source": [
        "a.loc[\"Shiro\"] = pd.Series([70, 80, 70, True], index=[\"Japanese\", \"English\", \"Math\", \"Result\"], name=\"Shiro\")  # Seriesを行として追加\n",
        "a"
      ],
      "execution_count": null,
      "outputs": []
    },
    {
      "cell_type": "markdown",
      "metadata": {
        "id": "rGYduDSUPI7L"
      },
      "source": [
        "列のラベルを指定し、列を追加することができます。"
      ]
    },
    {
      "cell_type": "code",
      "metadata": {
        "id": "jHAuYpSKIbsF"
      },
      "source": [
        "a[\"Science\"] = [80, 70, 60, 50, 60, 40, 80]  # 列をリストとして追加\n",
        "a"
      ],
      "execution_count": null,
      "outputs": []
    },
    {
      "cell_type": "markdown",
      "metadata": {
        "id": "zdiKjWtbWD3l"
      },
      "source": [
        "`sort_values`メソッドにより、DataFrameをソートすることができます。"
      ]
    },
    {
      "cell_type": "code",
      "metadata": {
        "id": "5G-S_aYqPHZX",
        "colab": {
          "base_uri": "https://localhost:8080/",
          "height": 235
        },
        "outputId": "6c5888fd-41cd-4940-9ab0-06d21a46a84f"
      },
      "source": [
        "a.sort_values(by=\"Math\",ascending=False)"
      ],
      "execution_count": 10,
      "outputs": [
        {
          "output_type": "execute_result",
          "data": {
            "text/html": [
              "<div>\n",
              "<style scoped>\n",
              "    .dataframe tbody tr th:only-of-type {\n",
              "        vertical-align: middle;\n",
              "    }\n",
              "\n",
              "    .dataframe tbody tr th {\n",
              "        vertical-align: top;\n",
              "    }\n",
              "\n",
              "    .dataframe thead th {\n",
              "        text-align: right;\n",
              "    }\n",
              "</style>\n",
              "<table border=\"1\" class=\"dataframe\">\n",
              "  <thead>\n",
              "    <tr style=\"text-align: right;\">\n",
              "      <th></th>\n",
              "      <th>Japanese</th>\n",
              "      <th>English</th>\n",
              "      <th>Math</th>\n",
              "      <th>Result</th>\n",
              "    </tr>\n",
              "  </thead>\n",
              "  <tbody>\n",
              "    <tr>\n",
              "      <th>Jiro</th>\n",
              "      <td>70</td>\n",
              "      <td>60</td>\n",
              "      <td>75</td>\n",
              "      <td>True</td>\n",
              "    </tr>\n",
              "    <tr>\n",
              "      <th>Taro</th>\n",
              "      <td>80</td>\n",
              "      <td>60</td>\n",
              "      <td>70</td>\n",
              "      <td>True</td>\n",
              "    </tr>\n",
              "    <tr>\n",
              "      <th>Hanako</th>\n",
              "      <td>90</td>\n",
              "      <td>80</td>\n",
              "      <td>70</td>\n",
              "      <td>True</td>\n",
              "    </tr>\n",
              "    <tr>\n",
              "      <th>Sachiko</th>\n",
              "      <td>40</td>\n",
              "      <td>60</td>\n",
              "      <td>50</td>\n",
              "      <td>False</td>\n",
              "    </tr>\n",
              "    <tr>\n",
              "      <th>Saburo</th>\n",
              "      <td>20</td>\n",
              "      <td>30</td>\n",
              "      <td>40</td>\n",
              "      <td>False</td>\n",
              "    </tr>\n",
              "    <tr>\n",
              "      <th>Yoko</th>\n",
              "      <td>50</td>\n",
              "      <td>20</td>\n",
              "      <td>10</td>\n",
              "      <td>False</td>\n",
              "    </tr>\n",
              "  </tbody>\n",
              "</table>\n",
              "</div>"
            ],
            "text/plain": [
              "         Japanese  English  Math  Result\n",
              "Jiro           70       60    75    True\n",
              "Taro           80       60    70    True\n",
              "Hanako         90       80    70    True\n",
              "Sachiko        40       60    50   False\n",
              "Saburo         20       30    40   False\n",
              "Yoko           50       20    10   False"
            ]
          },
          "metadata": {
            "tags": []
          },
          "execution_count": 10
        }
      ]
    },
    {
      "cell_type": "markdown",
      "metadata": {
        "id": "pCKi7UNEXofI"
      },
      "source": [
        "他にも、DataFrameにはデータの削除や変更、DataFrame同士の結合など様々な機能があります。  \n",
        "もちろん、条件を詳しく絞ってデータを抽出することも可能です。  \n",
        "さらに詳しく知りたい方は、公式ドキュメントなどを参考にしましょう。  \n",
        "https://pandas.pydata.org/pandas-docs/stable/index.html"
      ]
    }
  ]
}