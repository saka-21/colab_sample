{
  "nbformat": 4,
  "nbformat_minor": 0,
  "metadata": {
    "colab": {
      "name": "linear_regression.ipynb",
      "provenance": [],
      "collapsed_sections": [],
      "authorship_tag": "ABX9TyMlTCH769SZ1opH5tyoU12k",
      "include_colab_link": true
    },
    "kernelspec": {
      "name": "python3",
      "display_name": "Python 3"
    }
  },
  "cells": [
    {
      "cell_type": "markdown",
      "metadata": {
        "id": "view-in-github",
        "colab_type": "text"
      },
      "source": [
        "<a href=\"https://colab.research.google.com/github/saka-21/colab_sample/blob/main/linear_regression.ipynb\" target=\"_parent\"><img src=\"https://colab.research.google.com/assets/colab-badge.svg\" alt=\"Open In Colab\"/></a>"
      ]
    },
    {
      "cell_type": "code",
      "metadata": {
        "id": "xdzT-vOmqe41"
      },
      "source": [
        "import numpy as np\n",
        "import matplotlib.pyplot as plt\n",
        "import pandas as pd\n",
        "%matplotlib inline"
      ],
      "execution_count": 6,
      "outputs": []
    },
    {
      "cell_type": "code",
      "metadata": {
        "id": "qCZbLtYSrjqG"
      },
      "source": [
        "from sklearn.datasets import load_boston\n",
        "# 学習用データ準備\n",
        "boston = load_boston()"
      ],
      "execution_count": 7,
      "outputs": []
    },
    {
      "cell_type": "code",
      "metadata": {
        "colab": {
          "base_uri": "https://localhost:8080/"
        },
        "id": "AuRq9yGCrtl0",
        "outputId": "3b057dbd-9af9-4b1e-c4d6-af99349e701b"
      },
      "source": [
        "x_org, yt = boston.data, boston.target\n",
        "feature_names = boston.feature_names\n",
        "print('元データ', x_org.shape, yt.shape)\n",
        "print('項目名', feature_names)\n"
      ],
      "execution_count": 15,
      "outputs": [
        {
          "output_type": "stream",
          "text": [
            "元データ (506, 13) (506,)\n",
            "項目名 ['CRIM' 'ZN' 'INDUS' 'CHAS' 'NOX' 'RM' 'AGE' 'DIS' 'RAD' 'TAX' 'PTRATIO'\n",
            " 'B' 'LSTAT']\n"
          ],
          "name": "stdout"
        }
      ]
    },
    {
      "cell_type": "code",
      "metadata": {
        "colab": {
          "base_uri": "https://localhost:8080/"
        },
        "id": "yCUOjJKkrvId",
        "outputId": "517620a9-b8ba-48a6-fd0d-f567929a1692"
      },
      "source": [
        "# データの絞り込み（項目　RMのみ）\n",
        "x_data = x_org[:, feature_names=='RM']\n",
        "print('絞りこみ後', x_data.shape)\n",
        "\n",
        "# ダミー変数を追加\n",
        "x = np.insert(x_data, 0, 1.0, axis=1)\n",
        "print('ダミー変数追加後', x.shape)"
      ],
      "execution_count": 20,
      "outputs": [
        {
          "output_type": "stream",
          "text": [
            "絞りこみ後 (506, 1)\n",
            "ダミー変数追加後 (506, 2)\n"
          ],
          "name": "stdout"
        },
        {
          "output_type": "execute_result",
          "data": {
            "text/plain": [
              "array([[1.   , 6.575],\n",
              "       [1.   , 6.421],\n",
              "       [1.   , 7.185],\n",
              "       ...,\n",
              "       [1.   , 6.976],\n",
              "       [1.   , 6.794],\n",
              "       [1.   , 6.03 ]])"
            ]
          },
          "metadata": {
            "tags": []
          },
          "execution_count": 20
        }
      ]
    },
    {
      "cell_type": "code",
      "metadata": {
        "colab": {
          "base_uri": "https://localhost:8080/"
        },
        "id": "nkXbf9iktJCb",
        "outputId": "66bb2c69-5d8d-460b-e008-d4a72d19ebe4"
      },
      "source": [
        "# 入力データxの表示（ダミー変数を含む）\n",
        "print(x.shape)\n",
        "print(x[:5, :])"
      ],
      "execution_count": 21,
      "outputs": [
        {
          "output_type": "stream",
          "text": [
            "(506, 2)\n",
            "[[1.    6.575]\n",
            " [1.    6.421]\n",
            " [1.    7.185]\n",
            " [1.    6.998]\n",
            " [1.    7.147]]\n"
          ],
          "name": "stdout"
        }
      ]
    },
    {
      "cell_type": "code",
      "metadata": {
        "colab": {
          "base_uri": "https://localhost:8080/"
        },
        "id": "vvWTIig7t9x1",
        "outputId": "900e9de8-b57a-4ede-b12a-ba976c01c6d1"
      },
      "source": [
        "# 正解データyの表示\n",
        "print(yt[:5])"
      ],
      "execution_count": 22,
      "outputs": [
        {
          "output_type": "stream",
          "text": [
            "[24.  21.6 34.7 33.4 36.2]\n"
          ],
          "name": "stdout"
        }
      ]
    },
    {
      "cell_type": "code",
      "metadata": {
        "colab": {
          "base_uri": "https://localhost:8080/",
          "height": 283
        },
        "id": "KBqODX1IuG9Q",
        "outputId": "f31991ba-7cf5-44f6-ce21-9226a66516af"
      },
      "source": [
        "# 散布図の表示\n",
        "plt.scatter(x[:, 1], yt, s=10, c='b')\n",
        "plt.xlabel('ROOM', fontsize=14)\n",
        "plt.ylabel('PRICE', fontsize=14)\n",
        "plt.show()"
      ],
      "execution_count": 24,
      "outputs": [
        {
          "output_type": "display_data",
          "data": {
            "image/png": "[encoded data removed]",
            "text/plain": [
              "<Figure size 432x288 with 1 Axes>"
            ]
          },
          "metadata": {
            "tags": [],
            "needs_background": "light"
          }
        }
      ]
    },
    {
      "cell_type": "code",
      "metadata": {
        "id": "aXNPiJqguYwX"
      },
      "source": [
        "# 予測関数（1, x）の値から予測値ypを計算する\n",
        "def pred(x, w):\n",
        "  return(x @ w)"
      ],
      "execution_count": 25,
      "outputs": []
    },
    {
      "cell_type": "code",
      "metadata": {
        "id": "9h23p5fQuzcB"
      },
      "source": [
        "# 初期化処理\n",
        "# データ系列総数\n",
        "M = x.shape[0]\n",
        "\n",
        "# 入力データ次元数（ダミー変数を含む）\n",
        "D = x.shape[1]\n",
        "\n",
        "# 繰り返し回数\n",
        "iters = 50000\n",
        "\n",
        "# 学習率\n",
        "alpha = 0.01\n",
        "\n",
        "# 重みベクトルの初期値（全ての値を１にする）\n",
        "w = np.ones(D)\n",
        "\n",
        "# 評価結果記録用（損失関数のみ記録）\n",
        "history = np.zeros((0, 2))"
      ],
      "execution_count": 26,
      "outputs": []
    },
    {
      "cell_type": "code",
      "metadata": {
        "colab": {
          "base_uri": "https://localhost:8080/"
        },
        "id": "3v3uqYpjvi75",
        "outputId": "6829a3d4-a363-4235-8f4e-f57e62aa5357"
      },
      "source": [
        "# 繰り返しループ\n",
        "for k in range(iters):\n",
        "  # 予測値の計算\n",
        "  yp = pred(x, w)\n",
        "\n",
        "  # 誤差の計算\n",
        "  yd = yp - yt\n",
        "\n",
        "  # 勾配降下法の実装\n",
        "  w = w -alpha * (x.T @ yd) / M\n",
        "\n",
        "  # 学習曲線描画用データの計算、保存\n",
        "  if(k % 100 == 0):\n",
        "    # 損失関数値の計算\n",
        "    loss = np.mean(yd ** 2) / 2\n",
        "    # 計算結果の記録\n",
        "    history = np.vstack((history, np.array([k, loss])))\n",
        "    # 画面表示\n",
        "    print('iter = {} loss = {}'.format(k, loss))"
      ],
      "execution_count": 27,
      "outputs": [
        {
          "output_type": "stream",
          "text": [
            "iter = 0 loss = 154.22493384090907\n",
            "iter = 100 loss = 29.61751801156841\n",
            "iter = 200 loss = 29.43176621285963\n",
            "iter = 300 loss = 29.250428212542577\n",
            "iter = 400 loss = 29.073399130791746\n",
            "iter = 500 loss = 28.90057657991573\n",
            "iter = 600 loss = 28.731860605139747\n",
            "iter = 700 loss = 28.56715362679504\n",
            "iter = 800 loss = 28.406360383882138\n",
            "iter = 900 loss = 28.249387878975032\n",
            "iter = 1000 loss = 28.096145324434623\n",
            "iter = 1100 loss = 27.94654408990015\n",
            "iter = 1200 loss = 27.800497651028387\n",
            "iter = 1300 loss = 27.657921539450868\n",
            "iter = 1400 loss = 27.51873329392016\n",
            "iter = 1500 loss = 27.38285241261713\n",
            "iter = 1600 loss = 27.250200306591278\n",
            "iter = 1700 loss = 27.120700254307618\n",
            "iter = 1800 loss = 26.99427735727346\n",
            "iter = 1900 loss = 26.870858496719627\n",
            "iter = 2000 loss = 26.75037229131106\n",
            "iter = 2100 loss = 26.632749055862163\n",
            "iter = 2200 loss = 26.517920761033313\n",
            "iter = 2300 loss = 26.405820993984896\n",
            "iter = 2400 loss = 26.29638491996638\n",
            "iter = 2500 loss = 26.18954924481808\n",
            "iter = 2600 loss = 26.08525217836389\n",
            "iter = 2700 loss = 25.98343339867398\n",
            "iter = 2800 loss = 25.884034017176543\n",
            "iter = 2900 loss = 25.786996544598654\n",
            "iter = 3000 loss = 25.692264857716424\n",
            "iter = 3100 loss = 25.599784166895134\n",
            "iter = 3200 loss = 25.50950098440083\n",
            "iter = 3300 loss = 25.421363093464752\n",
            "iter = 3400 loss = 25.335319518082922\n",
            "iter = 3500 loss = 25.251320493533335\n",
            "iter = 3600 loss = 25.1693174375937\n",
            "iter = 3700 loss = 25.08926292244312\n",
            "iter = 3800 loss = 25.01111064723143\n",
            "iter = 3900 loss = 24.934815411300313\n",
            "iter = 4000 loss = 24.860333088040793\n",
            "iter = 4100 loss = 24.787620599371856\n",
            "iter = 4200 loss = 24.71663589082551\n",
            "iter = 4300 loss = 24.64733790722395\n",
            "iter = 4400 loss = 24.579686568934562\n",
            "iter = 4500 loss = 24.51364274868924\n",
            "iter = 4600 loss = 24.449168248954457\n",
            "iter = 4700 loss = 24.386225779839112\n",
            "iter = 4800 loss = 24.324778937527306\n",
            "iter = 4900 loss = 24.26479218322357\n",
            "iter = 5000 loss = 24.20623082259846\n",
            "iter = 5100 loss = 24.14906098572248\n",
            "iter = 5200 loss = 24.093249607476842\n",
            "iter = 5300 loss = 24.038764408429763\n",
            "iter = 5400 loss = 23.985573876167066\n",
            "iter = 5500 loss = 23.93364724706649\n",
            "iter = 5600 loss = 23.882954488505018\n",
            "iter = 5700 loss = 23.833466281489034\n",
            "iter = 5800 loss = 23.78515400369719\n",
            "iter = 5900 loss = 23.737989712926208\n",
            "iter = 6000 loss = 23.691946130930045\n",
            "iter = 6100 loss = 23.64699662764309\n",
            "iter = 6200 loss = 23.603115205778224\n",
            "iter = 6300 loss = 23.560276485790805\n",
            "iter = 6400 loss = 23.518455691200067\n",
            "iter = 6500 loss = 23.47762863425919\n",
            "iter = 6600 loss = 23.43777170196593\n",
            "iter = 6700 loss = 23.398861842405623\n",
            "iter = 6800 loss = 23.360876551418784\n",
            "iter = 6900 loss = 23.3237938595854\n",
            "iter = 7000 loss = 23.287592319518584\n",
            "iter = 7100 loss = 23.252250993460116\n",
            "iter = 7200 loss = 23.217749441170753\n",
            "iter = 7300 loss = 23.184067708108262\n",
            "iter = 7400 loss = 23.1511863138864\n",
            "iter = 7500 loss = 23.119086241008088\n",
            "iter = 7600 loss = 23.087748923866354\n",
            "iter = 7700 loss = 23.057156238006595\n",
            "iter = 7800 loss = 23.027290489644002\n",
            "iter = 7900 loss = 22.998134405430054\n",
            "iter = 8000 loss = 22.969671122462227\n",
            "iter = 8100 loss = 22.941884178531005\n",
            "iter = 8200 loss = 22.914757502598746\n",
            "iter = 8300 loss = 22.888275405504665\n",
            "iter = 8400 loss = 22.862422570890825\n",
            "iter = 8500 loss = 22.837184046343605\n",
            "iter = 8600 loss = 22.812545234745777\n",
            "iter = 8700 loss = 22.788491885833956\n",
            "iter = 8800 loss = 22.765010087956814\n",
            "iter = 8900 loss = 22.74208626002895\n",
            "iter = 9000 loss = 22.719707143676125\n",
            "iter = 9100 loss = 22.69785979556702\n",
            "iter = 9200 loss = 22.676531579927254\n",
            "iter = 9300 loss = 22.655710161231273\n",
            "iter = 9400 loss = 22.635383497067924\n",
            "iter = 9500 loss = 22.615539831175475\n",
            "iter = 9600 loss = 22.596167686642236\n",
            "iter = 9700 loss = 22.577255859268664\n",
            "iter = 9800 loss = 22.558793411087258\n",
            "iter = 9900 loss = 22.540769664036375\n",
            "iter = 10000 loss = 22.523174193784424\n",
            "iter = 10100 loss = 22.505996823700762\n",
            "iter = 10200 loss = 22.489227618969878\n",
            "iter = 10300 loss = 22.47285688084544\n",
            "iter = 10400 loss = 22.456875141040843\n",
            "iter = 10500 loss = 22.441273156253086\n",
            "iter = 10600 loss = 22.42604190281675\n",
            "iter = 10700 loss = 22.411172571485015\n",
            "iter = 10800 loss = 22.396656562334673\n",
            "iter = 10900 loss = 22.38248547979224\n",
            "iter = 11000 loss = 22.368651127778243\n",
            "iter = 11100 loss = 22.35514550496683\n",
            "iter = 11200 loss = 22.341960800158155\n",
            "iter = 11300 loss = 22.32908938776055\n",
            "iter = 11400 loss = 22.31652382338023\n",
            "iter = 11500 loss = 22.30425683951561\n",
            "iter = 11600 loss = 22.29228134135412\n",
            "iter = 11700 loss = 22.28059040266874\n",
            "iter = 11800 loss = 22.269177261812104\n",
            "iter = 11900 loss = 22.25803531780582\n",
            "iter = 12000 loss = 22.247158126522677\n",
            "iter = 12100 loss = 22.236539396959557\n",
            "iter = 12200 loss = 22.22617298759896\n",
            "iter = 12300 loss = 22.216052902856923\n",
            "iter = 12400 loss = 22.206173289615396\n",
            "iter = 12500 loss = 22.196528433837\n",
            "iter = 12600 loss = 22.187112757260195\n",
            "iter = 12700 loss = 22.177920814173042\n",
            "iter = 12800 loss = 22.168947288263517\n",
            "iter = 12900 loss = 22.16018698954481\n",
            "iter = 13000 loss = 22.151634851353563\n",
            "iter = 13100 loss = 22.143285927419495\n",
            "iter = 13200 loss = 22.135135389004652\n",
            "iter = 13300 loss = 22.127178522110608\n",
            "iter = 13400 loss = 22.11941072475206\n",
            "iter = 13500 loss = 22.111827504295203\n",
            "iter = 13600 loss = 22.104424474859318\n",
            "iter = 13700 loss = 22.097197354780146\n",
            "iter = 13800 loss = 22.090141964133494\n",
            "iter = 13900 loss = 22.083254222317724\n",
            "iter = 14000 loss = 22.076530145693685\n",
            "iter = 14100 loss = 22.069965845280677\n",
            "iter = 14200 loss = 22.0635575245072\n",
            "iter = 14300 loss = 22.057301477015177\n",
            "iter = 14400 loss = 22.051194084516272\n",
            "iter = 14500 loss = 22.045231814699225\n",
            "iter = 14600 loss = 22.03941121918688\n",
            "iter = 14700 loss = 22.033728931541756\n",
            "iter = 14800 loss = 22.028181665319\n",
            "iter = 14900 loss = 22.022766212165642\n",
            "iter = 15000 loss = 22.017479439964955\n",
            "iter = 15100 loss = 22.012318291024975\n",
            "iter = 15200 loss = 22.007279780310036\n",
            "iter = 15300 loss = 22.0023609937143\n",
            "iter = 15400 loss = 21.997559086376345\n",
            "iter = 15500 loss = 21.992871281033814\n",
            "iter = 15600 loss = 21.988294866417103\n",
            "iter = 15700 loss = 21.983827195681293\n",
            "iter = 15800 loss = 21.97946568487527\n",
            "iter = 15900 loss = 21.975207811447273\n",
            "iter = 16000 loss = 21.97105111278592\n",
            "iter = 16100 loss = 21.966993184795932\n",
            "iter = 16200 loss = 21.963031680507687\n",
            "iter = 16300 loss = 21.95916430871978\n",
            "iter = 16400 loss = 21.955388832673925\n",
            "iter = 16500 loss = 21.95170306876122\n",
            "iter = 16600 loss = 21.94810488525928\n",
            "iter = 16700 loss = 21.944592201099276\n",
            "iter = 16800 loss = 21.94116298466235\n",
            "iter = 16900 loss = 21.937815252604576\n",
            "iter = 17000 loss = 21.934547068709865\n",
            "iter = 17100 loss = 21.93135654277012\n",
            "iter = 17200 loss = 21.928241829492\n",
            "iter = 17300 loss = 21.925201127429663\n",
            "iter = 17400 loss = 21.922232677942894\n",
            "iter = 17500 loss = 21.919334764179933\n",
            "iter = 17600 loss = 21.916505710084525\n",
            "iter = 17700 loss = 21.91374387942654\n",
            "iter = 17800 loss = 21.911047674855634\n",
            "iter = 17900 loss = 21.908415536977383\n",
            "iter = 18000 loss = 21.90584594345141\n",
            "iter = 18100 loss = 21.903337408110875\n",
            "iter = 18200 loss = 21.900888480102974\n",
            "iter = 18300 loss = 21.898497743049766\n",
            "iter = 18400 loss = 21.896163814229013\n",
            "iter = 18500 loss = 21.89388534377446\n",
            "iter = 18600 loss = 21.89166101389512\n",
            "iter = 18700 loss = 21.88948953811308\n",
            "iter = 18800 loss = 21.887369660519493\n",
            "iter = 18900 loss = 21.88530015504816\n",
            "iter = 19000 loss = 21.883279824766433\n",
            "iter = 19100 loss = 21.88130750118295\n",
            "iter = 19200 loss = 21.879382043571802\n",
            "iter = 19300 loss = 21.87750233831281\n",
            "iter = 19400 loss = 21.875667298247404\n",
            "iter = 19500 loss = 21.87387586204989\n",
            "iter = 19600 loss = 21.872126993613552\n",
            "iter = 19700 loss = 21.870419681451477\n",
            "iter = 19800 loss = 21.8687529381115\n",
            "iter = 19900 loss = 21.867125799605088\n",
            "iter = 20000 loss = 21.865537324849843\n",
            "iter = 20100 loss = 21.863986595125155\n",
            "iter = 20200 loss = 21.862472713540907\n",
            "iter = 20300 loss = 21.860994804518693\n",
            "iter = 20400 loss = 21.859552013285438\n",
            "iter = 20500 loss = 21.858143505379008\n",
            "iter = 20600 loss = 21.856768466165622\n",
            "iter = 20700 loss = 21.855426100368643\n",
            "iter = 20800 loss = 21.854115631608668\n",
            "iter = 20900 loss = 21.85283630195445\n",
            "iter = 21000 loss = 21.851587371484573\n",
            "iter = 21100 loss = 21.850368117859485\n",
            "iter = 21200 loss = 21.849177835903728\n",
            "iter = 21300 loss = 21.848015837198083\n",
            "iter = 21400 loss = 21.84688144968142\n",
            "iter = 21500 loss = 21.84577401726199\n",
            "iter = 21600 loss = 21.844692899437995\n",
            "iter = 21700 loss = 21.84363747092708\n",
            "iter = 21800 loss = 21.842607121304745\n",
            "iter = 21900 loss = 21.841601254651284\n",
            "iter = 22000 loss = 21.84061928920712\n",
            "iter = 22100 loss = 21.83966065703632\n",
            "iter = 22200 loss = 21.838724803698152\n",
            "iter = 22300 loss = 21.8378111879264\n",
            "iter = 22400 loss = 21.83691928131628\n",
            "iter = 22500 loss = 21.836048568018903\n",
            "iter = 22600 loss = 21.835198544442854\n",
            "iter = 22700 loss = 21.834368718962967\n",
            "iter = 22800 loss = 21.83355861163598\n",
            "iter = 22900 loss = 21.832767753922948\n",
            "iter = 23000 loss = 21.831995688418267\n",
            "iter = 23100 loss = 21.831241968585104\n",
            "iter = 23200 loss = 21.83050615849715\n",
            "iter = 23300 loss = 21.8297878325865\n",
            "iter = 23400 loss = 21.829086575397504\n",
            "iter = 23500 loss = 21.82840198134649\n",
            "iter = 23600 loss = 21.8277336544872\n",
            "iter = 23700 loss = 21.827081208281747\n",
            "iter = 23800 loss = 21.826444265377123\n",
            "iter = 23900 loss = 21.825822457386863\n",
            "iter = 24000 loss = 21.825215424678067\n",
            "iter = 24100 loss = 21.824622816163338\n",
            "iter = 24200 loss = 21.824044289097767\n",
            "iter = 24300 loss = 21.82347950888067\n",
            "iter = 24400 loss = 21.8229281488621\n",
            "iter = 24500 loss = 21.822389890153875\n",
            "iter = 24600 loss = 21.821864421445202\n",
            "iter = 24700 loss = 21.821351438822564\n",
            "iter = 24800 loss = 21.820850645594007\n",
            "iter = 24900 loss = 21.820361752117492\n",
            "iter = 25000 loss = 21.819884475633415\n",
            "iter = 25100 loss = 21.81941854010104\n",
            "iter = 25200 loss = 21.818963676038862\n",
            "iter = 25300 loss = 21.818519620368743\n",
            "iter = 25400 loss = 21.818086116263753\n",
            "iter = 25500 loss = 21.817662912999648\n",
            "iter = 25600 loss = 21.817249765809823\n",
            "iter = 25700 loss = 21.816846435743795\n",
            "iter = 25800 loss = 21.816452689528944\n",
            "iter = 25900 loss = 21.816068299435667\n",
            "iter = 26000 loss = 21.8156930431456\n",
            "iter = 26100 loss = 21.81532670362308\n",
            "iter = 26200 loss = 21.81496906898959\n",
            "iter = 26300 loss = 21.814619932401232\n",
            "iter = 26400 loss = 21.81427909192911\n",
            "iter = 26500 loss = 21.813946350442503\n",
            "iter = 26600 loss = 21.813621515494887\n",
            "iter = 26700 loss = 21.8133043992126\n",
            "iter = 26800 loss = 21.81299481818622\n",
            "iter = 26900 loss = 21.81269259336443\n",
            "iter = 27000 loss = 21.81239754995054\n",
            "iter = 27100 loss = 21.812109517301298\n",
            "iter = 27200 loss = 21.811828328828277\n",
            "iter = 27300 loss = 21.81155382190149\n",
            "iter = 27400 loss = 21.811285837755328\n",
            "iter = 27500 loss = 21.81102422139671\n",
            "iter = 27600 loss = 21.810768821515524\n",
            "iter = 27700 loss = 21.81051949039702\n",
            "iter = 27800 loss = 21.81027608383644\n",
            "iter = 27900 loss = 21.810038461055573\n",
            "iter = 28000 loss = 21.809806484621365\n",
            "iter = 28100 loss = 21.809580020366415\n",
            "iter = 28200 loss = 21.809358937311384\n",
            "iter = 28300 loss = 21.809143107589243\n",
            "iter = 28400 loss = 21.808932406371298\n",
            "iter = 28500 loss = 21.808726711795035\n",
            "iter = 28600 loss = 21.808525904893596\n",
            "iter = 28700 loss = 21.808329869526993\n",
            "iter = 28800 loss = 21.808138492314935\n",
            "iter = 28900 loss = 21.80795166257126\n",
            "iter = 29000 loss = 21.807769272239895\n",
            "iter = 29100 loss = 21.80759121583238\n",
            "iter = 29200 loss = 21.80741739036686\n",
            "iter = 29300 loss = 21.807247695308497\n",
            "iter = 29400 loss = 21.807082032511374\n",
            "iter = 29500 loss = 21.806920306161654\n",
            "iter = 29600 loss = 21.80676242272225\n",
            "iter = 29700 loss = 21.80660829087866\n",
            "iter = 29800 loss = 21.806457821486187\n",
            "iter = 29900 loss = 21.806310927518382\n",
            "iter = 30000 loss = 21.806167524016683\n",
            "iter = 30100 loss = 21.806027528041323\n",
            "iter = 30200 loss = 21.805890858623314\n",
            "iter = 30300 loss = 21.805757436717627\n",
            "iter = 30400 loss = 21.805627185157526\n",
            "iter = 30500 loss = 21.80550002860985\n",
            "iter = 30600 loss = 21.805375893531522\n",
            "iter = 30700 loss = 21.80525470812697\n",
            "iter = 30800 loss = 21.805136402306605\n",
            "iter = 30900 loss = 21.805020907646323\n",
            "iter = 31000 loss = 21.804908157347864\n",
            "iter = 31100 loss = 21.80479808620023\n",
            "iter = 31200 loss = 21.80469063054197\n",
            "iter = 31300 loss = 21.80458572822432\n",
            "iter = 31400 loss = 21.804483318575297\n",
            "iter = 31500 loss = 21.80438334236459\n",
            "iter = 31600 loss = 21.804285741769306\n",
            "iter = 31700 loss = 21.804190460340536\n",
            "iter = 31800 loss = 21.80409744297068\n",
            "iter = 31900 loss = 21.80400663586162\n",
            "iter = 32000 loss = 21.803917986493556\n",
            "iter = 32100 loss = 21.80383144359467\n",
            "iter = 32200 loss = 21.803746957111443\n",
            "iter = 32300 loss = 21.803664478179723\n",
            "iter = 32400 loss = 21.803583959096468\n",
            "iter = 32500 loss = 21.803505353292127\n",
            "iter = 32600 loss = 21.803428615303734\n",
            "iter = 32700 loss = 21.80335370074861\n",
            "iter = 32800 loss = 21.803280566298696\n",
            "iter = 32900 loss = 21.803209169655457\n",
            "iter = 33000 loss = 21.80313946952548\n",
            "iter = 33100 loss = 21.80307142559654\n",
            "iter = 33200 loss = 21.803004998514304\n",
            "iter = 33300 loss = 21.802940149859577\n",
            "iter = 33400 loss = 21.802876842126064\n",
            "iter = 33500 loss = 21.802815038698707\n",
            "iter = 33600 loss = 21.802754703832456\n",
            "iter = 33700 loss = 21.802695802631657\n",
            "iter = 33800 loss = 21.802638301029823\n",
            "iter = 33900 loss = 21.80258216576995\n",
            "iter = 34000 loss = 21.80252736438529\n",
            "iter = 34100 loss = 21.802473865180556\n",
            "iter = 34200 loss = 21.8024216372136\n",
            "iter = 34300 loss = 21.802370650277517\n",
            "iter = 34400 loss = 21.80232087488317\n",
            "iter = 34500 loss = 21.802272282242132\n",
            "iter = 34600 loss = 21.802224844250055\n",
            "iter = 34700 loss = 21.802178533470393\n",
            "iter = 34800 loss = 21.802133323118532\n",
            "iter = 34900 loss = 21.802089187046338\n",
            "iter = 35000 loss = 21.80204609972696\n",
            "iter = 35100 loss = 21.802004036240156\n",
            "iter = 35200 loss = 21.80196297225781\n",
            "iter = 35300 loss = 21.801922884029885\n",
            "iter = 35400 loss = 21.801883748370695\n",
            "iter = 35500 loss = 21.801845542645484\n",
            "iter = 35600 loss = 21.801808244757343\n",
            "iter = 35700 loss = 21.801771833134424\n",
            "iter = 35800 loss = 21.801736286717457\n",
            "iter = 35900 loss = 21.801701584947597\n",
            "iter = 36000 loss = 21.801667707754486\n",
            "iter = 36100 loss = 21.80163463554471\n",
            "iter = 36200 loss = 21.801602349190393\n",
            "iter = 36300 loss = 21.801570830018193\n",
            "iter = 36400 loss = 21.801540059798487\n",
            "iter = 36500 loss = 21.8015100207348\n",
            "iter = 36600 loss = 21.80148069545355\n",
            "iter = 36700 loss = 21.80145206699397\n",
            "iter = 36800 loss = 21.80142411879832\n",
            "iter = 36900 loss = 21.801396834702302\n",
            "iter = 37000 loss = 21.80137019892571\n",
            "iter = 37100 loss = 21.801344196063297\n",
            "iter = 37200 loss = 21.801318811075888\n",
            "iter = 37300 loss = 21.801294029281646\n",
            "iter = 37400 loss = 21.80126983634762\n",
            "iter = 37500 loss = 21.80124621828142\n",
            "iter = 37600 loss = 21.801223161423152\n",
            "iter = 37700 loss = 21.8012006524375\n",
            "iter = 37800 loss = 21.80117867830602\n",
            "iter = 37900 loss = 21.801157226319617\n",
            "iter = 38000 loss = 21.801136284071166\n",
            "iter = 38100 loss = 21.801115839448386\n",
            "iter = 38200 loss = 21.801095880626786\n",
            "iter = 38300 loss = 21.80107639606285\n",
            "iter = 38400 loss = 21.801057374487367\n",
            "iter = 38500 loss = 21.801038804898887\n",
            "iter = 38600 loss = 21.801020676557386\n",
            "iter = 38700 loss = 21.801002978978037\n",
            "iter = 38800 loss = 21.800985701925153\n",
            "iter = 38900 loss = 21.80096883540626\n",
            "iter = 39000 loss = 21.800952369666337\n",
            "iter = 39100 loss = 21.800936295182154\n",
            "iter = 39200 loss = 21.800920602656753\n",
            "iter = 39300 loss = 21.800905283014117\n",
            "iter = 39400 loss = 21.800890327393876\n",
            "iter = 39500 loss = 21.800875727146188\n",
            "iter = 39600 loss = 21.800861473826775\n",
            "iter = 39700 loss = 21.800847559191983\n",
            "iter = 39800 loss = 21.80083397519406\n",
            "iter = 39900 loss = 21.80082071397647\n",
            "iter = 40000 loss = 21.800807767869376\n",
            "iter = 40100 loss = 21.800795129385182\n",
            "iter = 40200 loss = 21.80078279121421\n",
            "iter = 40300 loss = 21.80077074622047\n",
            "iter = 40400 loss = 21.80075898743755\n",
            "iter = 40500 loss = 21.80074750806456\n",
            "iter = 40600 loss = 21.800736301462216\n",
            "iter = 40700 loss = 21.800725361149002\n",
            "iter = 40800 loss = 21.800714680797388\n",
            "iter = 40900 loss = 21.800704254230233\n",
            "iter = 41000 loss = 21.800694075417148\n",
            "iter = 41100 loss = 21.800684138471063\n",
            "iter = 41200 loss = 21.800674437644766\n",
            "iter = 41300 loss = 21.800664967327638\n",
            "iter = 41400 loss = 21.800655722042354\n",
            "iter = 41500 loss = 21.80064669644176\n",
            "iter = 41600 loss = 21.80063788530574\n",
            "iter = 41700 loss = 21.800629283538232\n",
            "iter = 41800 loss = 21.800620886164268\n",
            "iter = 41900 loss = 21.80061268832708\n",
            "iter = 42000 loss = 21.800604685285318\n",
            "iter = 42100 loss = 21.800596872410292\n",
            "iter = 42200 loss = 21.800589245183293\n",
            "iter = 42300 loss = 21.800581799192997\n",
            "iter = 42400 loss = 21.800574530132874\n",
            "iter = 42500 loss = 21.80056743379876\n",
            "iter = 42600 loss = 21.800560506086367\n",
            "iter = 42700 loss = 21.800553742988935\n",
            "iter = 42800 loss = 21.800547140594926\n",
            "iter = 42900 loss = 21.800540695085722\n",
            "iter = 43000 loss = 21.80053440273347\n",
            "iter = 43100 loss = 21.80052825989887\n",
            "iter = 43200 loss = 21.80052226302913\n",
            "iter = 43300 loss = 21.800516408655852\n",
            "iter = 43400 loss = 21.80051069339305\n",
            "iter = 43500 loss = 21.80050511393523\n",
            "iter = 43600 loss = 21.800499667055405\n",
            "iter = 43700 loss = 21.800494349603287\n",
            "iter = 43800 loss = 21.800489158503442\n",
            "iter = 43900 loss = 21.800484090753514\n",
            "iter = 44000 loss = 21.80047914342248\n",
            "iter = 44100 loss = 21.800474313648966\n",
            "iter = 44200 loss = 21.800469598639598\n",
            "iter = 44300 loss = 21.800464995667372\n",
            "iter = 44400 loss = 21.800460502070088\n",
            "iter = 44500 loss = 21.800456115248796\n",
            "iter = 44600 loss = 21.800451832666305\n",
            "iter = 44700 loss = 21.80044765184571\n",
            "iter = 44800 loss = 21.80044357036897\n",
            "iter = 44900 loss = 21.800439585875488\n",
            "iter = 45000 loss = 21.80043569606077\n",
            "iter = 45100 loss = 21.800431898675086\n",
            "iter = 45200 loss = 21.800428191522144\n",
            "iter = 45300 loss = 21.800424572457857\n",
            "iter = 45400 loss = 21.80042103938907\n",
            "iter = 45500 loss = 21.80041759027239\n",
            "iter = 45600 loss = 21.800414223112952\n",
            "iter = 45700 loss = 21.800410935963303\n",
            "iter = 45800 loss = 21.800407726922273\n",
            "iter = 45900 loss = 21.800404594133855\n",
            "iter = 46000 loss = 21.800401535786154\n",
            "iter = 46100 loss = 21.80039855011032\n",
            "iter = 46200 loss = 21.80039563537954\n",
            "iter = 46300 loss = 21.800392789908024\n",
            "iter = 46400 loss = 21.800390012050055\n",
            "iter = 46500 loss = 21.800387300199013\n",
            "iter = 46600 loss = 21.80038465278645\n",
            "iter = 46700 loss = 21.800382068281202\n",
            "iter = 46800 loss = 21.800379545188456\n",
            "iter = 46900 loss = 21.80037708204896\n",
            "iter = 47000 loss = 21.800374677438114\n",
            "iter = 47100 loss = 21.800372329965157\n",
            "iter = 47200 loss = 21.800370038272405\n",
            "iter = 47300 loss = 21.800367801034415\n",
            "iter = 47400 loss = 21.800365616957244\n",
            "iter = 47500 loss = 21.800363484777687\n",
            "iter = 47600 loss = 21.800361403262567\n",
            "iter = 47700 loss = 21.80035937120801\n",
            "iter = 47800 loss = 21.800357387438748\n",
            "iter = 47900 loss = 21.800355450807423\n",
            "iter = 48000 loss = 21.80035356019396\n",
            "iter = 48100 loss = 21.800351714504885\n",
            "iter = 48200 loss = 21.80034991267272\n",
            "iter = 48300 loss = 21.800348153655346\n",
            "iter = 48400 loss = 21.800346436435397\n",
            "iter = 48500 loss = 21.8003447600197\n",
            "iter = 48600 loss = 21.800343123438672\n",
            "iter = 48700 loss = 21.800341525745765\n",
            "iter = 48800 loss = 21.800339966016924\n",
            "iter = 48900 loss = 21.800338443350068\n",
            "iter = 49000 loss = 21.80033695686452\n",
            "iter = 49100 loss = 21.80033550570056\n",
            "iter = 49200 loss = 21.80033408901887\n",
            "iter = 49300 loss = 21.800332706000106\n",
            "iter = 49400 loss = 21.80033135584436\n",
            "iter = 49500 loss = 21.800330037770756\n",
            "iter = 49600 loss = 21.800328751016966\n",
            "iter = 49700 loss = 21.80032749483877\n",
            "iter = 49800 loss = 21.80032626850964\n",
            "iter = 49900 loss = 21.8003250713203\n"
          ],
          "name": "stdout"
        }
      ]
    },
    {
      "cell_type": "code",
      "metadata": {
        "colab": {
          "base_uri": "https://localhost:8080/"
        },
        "id": "5jIDZ9M8ywRS",
        "outputId": "7dadb0bd-588b-4a6d-d9d4-ff9db81266fb"
      },
      "source": [
        "print('損失関数初期値: %f' % history[0,1])\n",
        "print('損失関数最終値: %f' % history[-1,1])"
      ],
      "execution_count": 28,
      "outputs": [
        {
          "output_type": "stream",
          "text": [
            "損失関数初期値: 154.224934\n",
            "損失関数最終値: 21.800325\n"
          ],
          "name": "stdout"
        }
      ]
    },
    {
      "cell_type": "code",
      "metadata": {
        "id": "pwZn9lvJy2th"
      },
      "source": [
        "xall = x[:,1].ravel()\n",
        "xl = np.array([[1, xall.min()],[1, xall.max()]])\n",
        "yl = pred(xl, w)"
      ],
      "execution_count": 29,
      "outputs": []
    },
    {
      "cell_type": "code",
      "metadata": {
        "colab": {
          "base_uri": "https://localhost:8080/",
          "height": 392
        },
        "id": "YavrCBx8zQDp",
        "outputId": "21d14063-4d56-4d21-fc5a-3ebac2f964ae"
      },
      "source": [
        "# 散布図と回帰直線の描画\n",
        "plt.figure(figsize=(6,6))\n",
        "plt.scatter(x[:,1], yt, s=10, c='b')\n",
        "plt.xlabel('ROOM', fontsize=14)\n",
        "plt.ylabel('PRICE', fontsize=14)\n",
        "plt.plot(xl[:,1], yl, c='k')# 学習曲線の表示 (最初の1個分を除く)\n",
        "plt.plot(history[1:,0], history[1:,1])\n",
        "plt.show()\n",
        "plt.show()"
      ],
      "execution_count": 30,
      "outputs": [
        {
          "output_type": "display_data",
          "data": {
            "image/png": "[encoded data removed]",
            "text/plain": [
              "<Figure size 432x432 with 1 Axes>"
            ]
          },
          "metadata": {
            "tags": [],
            "needs_background": "light"
          }
        }
      ]
    },
    {
      "cell_type": "code",
      "metadata": {
        "colab": {
          "base_uri": "https://localhost:8080/",
          "height": 269
        },
        "id": "7bUwX6IxzR9w",
        "outputId": "7f18e37e-945b-43fd-8440-1466f805cc53"
      },
      "source": [
        "# 学習曲線の表示 (最初の1個分を除く)\n",
        "plt.plot(history[1:,0], history[1:,1])\n",
        "plt.show()"
      ],
      "execution_count": 31,
      "outputs": [
        {
          "output_type": "display_data",
          "data": {
            "image/png": "[encoded data removed]",
            "text/plain": [
              "<Figure size 432x288 with 1 Axes>"
            ]
          },
          "metadata": {
            "tags": [],
            "needs_background": "light"
          }
        }
      ]
    },
    {
      "cell_type": "code",
      "metadata": {
        "colab": {
          "base_uri": "https://localhost:8080/"
        },
        "id": "ufi1Ijjpz4uz",
        "outputId": "e0ef9902-b992-4362-e049-50143f609081"
      },
      "source": [
        " # 重回帰モデルに応用\n",
        " # 列の追加\n",
        " x_add = x_org[:, feature_names == 'LSTAT']\n",
        " x2 = np.hstack((x, x_add))\n",
        " print(x2.shape)"
      ],
      "execution_count": 33,
      "outputs": [
        {
          "output_type": "stream",
          "text": [
            "(506, 3)\n"
          ],
          "name": "stdout"
        }
      ]
    },
    {
      "cell_type": "code",
      "metadata": {
        "colab": {
          "base_uri": "https://localhost:8080/"
        },
        "id": "fkvWFHJQAzRE",
        "outputId": "37767df5-1427-4f76-e36b-79c59e39fd2e"
      },
      "source": [
        "# 入力データxの表示（ダミーデータを含む）\n",
        "print(x2[:5, :])"
      ],
      "execution_count": 34,
      "outputs": [
        {
          "output_type": "stream",
          "text": [
            "[[1.    6.575 4.98 ]\n",
            " [1.    6.421 9.14 ]\n",
            " [1.    7.185 4.03 ]\n",
            " [1.    6.998 2.94 ]\n",
            " [1.    7.147 5.33 ]]\n"
          ],
          "name": "stdout"
        }
      ]
    },
    {
      "cell_type": "code",
      "metadata": {
        "id": "hfnKhVjNBIaA"
      },
      "source": [
        "# 初期化処理\n",
        "# データ系列総数\n",
        "M = x2.shape[0]\n",
        "\n",
        "# 入力データ次元数（ダミー変数を含む）\n",
        "D = x2.shape[1]\n",
        "\n",
        "# 繰り返し回数\n",
        "iters = 2000\n",
        "\n",
        "# 学習率\n",
        "alpha = 0.001\n",
        "\n",
        "# 重みベクトルの初期値（全ての値を１にする）\n",
        "w = np.ones(D)\n",
        "\n",
        "# 評価結果記録用（損失関数のみ記録）\n",
        "history = np.zeros((0, 2))"
      ],
      "execution_count": 39,
      "outputs": []
    },
    {
      "cell_type": "code",
      "metadata": {
        "colab": {
          "base_uri": "https://localhost:8080/"
        },
        "id": "3UeXrc7oBQpN",
        "outputId": "467ff5a3-aa81-4e59-9843-db36c38e6064"
      },
      "source": [
        "# 繰り返しループ\n",
        "for k in range(iters):\n",
        "  # 予測値の計算\n",
        "  yp = pred(x2, w)\n",
        "\n",
        "  # 誤差の計算\n",
        "  yd = yp - yt\n",
        "\n",
        "  # 勾配降下法の実装\n",
        "  w = w -alpha * (x2.T @ yd) / M\n",
        "\n",
        "  # 学習曲線描画用データの計算、保存\n",
        "  if(k % 100 == 0):\n",
        "    # 損失関数値の計算\n",
        "    loss = np.mean(yd ** 2) / 2\n",
        "    # 計算結果の記録\n",
        "    history = np.vstack((history, np.array([k, loss])))\n",
        "    # 画面表示\n",
        "    print('iter = {} loss = {}'.format(k, loss))"
      ],
      "execution_count": 40,
      "outputs": [
        {
          "output_type": "stream",
          "text": [
            "iter = 0 loss = 112.0639816077075\n",
            "iter = 100 loss = 25.358934200838426\n",
            "iter = 200 loss = 16.391054850586045\n",
            "iter = 300 loss = 15.403015477091875\n",
            "iter = 400 loss = 15.294135006632079\n",
            "iter = 500 loss = 15.282113695594543\n",
            "iter = 600 loss = 15.280763630069565\n",
            "iter = 700 loss = 15.280589272586079\n",
            "iter = 800 loss = 15.280544476062445\n",
            "iter = 900 loss = 15.280513983829717\n",
            "iter = 1000 loss = 15.280485097737486\n",
            "iter = 1100 loss = 15.280456418763167\n",
            "iter = 1200 loss = 15.280427792737308\n",
            "iter = 1300 loss = 15.280399202639066\n",
            "iter = 1400 loss = 15.280370646557646\n",
            "iter = 1500 loss = 15.280342124247017\n",
            "iter = 1600 loss = 15.280313635644589\n",
            "iter = 1700 loss = 15.280285180708036\n",
            "iter = 1800 loss = 15.28025675939729\n",
            "iter = 1900 loss = 15.28022837167259\n"
          ],
          "name": "stdout"
        }
      ]
    },
    {
      "cell_type": "code",
      "metadata": {
        "colab": {
          "base_uri": "https://localhost:8080/"
        },
        "id": "IsFh-RmxBVv8",
        "outputId": "8ebdaadf-500a-4e2c-89ee-7dee0e09504c"
      },
      "source": [
        "print('損失関数初期値: %f' % history[0,1])\n",
        "print('損失関数最終値: %f' % history[-1,1])"
      ],
      "execution_count": 41,
      "outputs": [
        {
          "output_type": "stream",
          "text": [
            "損失関数初期値: 112.063982\n",
            "損失関数最終値: 15.280228\n"
          ],
          "name": "stdout"
        }
      ]
    },
    {
      "cell_type": "code",
      "metadata": {
        "id": "NPKDr7r9BpEg"
      },
      "source": [
        ""
      ],
      "execution_count": 43,
      "outputs": []
    },
    {
      "cell_type": "code",
      "metadata": {
        "id": "okg-5jd6ByJh"
      },
      "source": [
        ""
      ],
      "execution_count": null,
      "outputs": []
    }
  ]
}