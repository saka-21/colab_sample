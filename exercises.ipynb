{
  "nbformat": 4,
  "nbformat_minor": 0,
  "metadata": {
    "colab": {
      "name": "exercises.ipynb",
      "provenance": [],
      "collapsed_sections": [],
      "include_colab_link": true
    },
    "kernelspec": {
      "name": "python3",
      "display_name": "Python 3"
    }
  },
  "cells": [
    {
      "cell_type": "markdown",
      "metadata": {
        "id": "view-in-github",
        "colab_type": "text"
      },
      "source": [
        "<a href=\"https://colab.research.google.com/github/saka-21/colab_sample/blob/main/exercises.ipynb\" target=\"_parent\"><img src=\"https://colab.research.google.com/assets/colab-badge.svg\" alt=\"Open In Colab\"/></a>"
      ]
    },
    {
      "cell_type": "markdown",
      "metadata": {
        "id": "hhIoNQe4a84i"
      },
      "source": [
        "# 演習\n",
        "Kerasを使って、ディープラーニングのモデルを構築します。  \n",
        "今回もIrisの分類を行います。  \n",
        "指定した通りに、セルにPythonのコードを記述しましょう。"
      ]
    },
    {
      "cell_type": "markdown",
      "metadata": {
        "id": "B-ECLOtv89nP"
      },
      "source": [
        "## データの準備\n",
        "最初に、以下のセルを実行しましょう。  \n",
        "ただし、コードは変更しないでください。"
      ]
    },
    {
      "cell_type": "code",
      "metadata": {
        "id": "CyzqJCBE3if_"
      },
      "source": [
        "import numpy as np\n",
        "from sklearn import datasets\n",
        "from sklearn import preprocessing\n",
        "from sklearn.model_selection import train_test_split\n",
        "from keras.utils import np_utils\n",
        "\n",
        "iris = datasets.load_iris()\n",
        "\n",
        "scaler = preprocessing.StandardScaler() \n",
        "scaler.fit(iris.data)\n",
        "\n",
        "x = scaler.transform(iris.data)\n",
        "t = np_utils.to_categorical(iris.target)\n",
        "\n",
        "x_train, x_test, t_train, t_test = train_test_split(x, t, train_size=0.75)"
      ],
      "execution_count": 2,
      "outputs": []
    },
    {
      "cell_type": "markdown",
      "metadata": {
        "id": "seSnEh1h81_O"
      },
      "source": [
        "## モデルの構築\n",
        "`mode.summary()`により以下の結果が表示されるモデルを構築しましょう。\n",
        "\n",
        "$$\n",
        "_________________________________________________________________\n",
        "Layer (type)                 Output Shape              Param #   \n",
        "=================================================================\n",
        "dense_1 (Dense)              (None, 16)                80        \n",
        "_________________________________________________________________\n",
        "activation_1 (Activation)    (None, 16)                0         \n",
        "_________________________________________________________________\n",
        "dense_2 (Dense)              (None, 16)                272       \n",
        "_________________________________________________________________\n",
        "activation_2 (Activation)    (None, 16)                0         \n",
        "_________________________________________________________________\n",
        "dense_3 (Dense)              (None, 3)                 51        \n",
        "_________________________________________________________________\n",
        "activation_3 (Activation)    (None, 3)                 0         \n",
        "=================================================================\n",
        "Total params: 403\n",
        "Trainable params: 403\n",
        "Non-trainable params: 0\n",
        "_________________________________________________________________\n",
        "None\n",
        "$$\n",
        "\n",
        "以下のセルの、指定した箇所にコードを追記してください。"
      ]
    },
    {
      "cell_type": "code",
      "metadata": {
        "id": "h2D07ONQ82Sf",
        "colab": {
          "base_uri": "https://localhost:8080/"
        },
        "outputId": "99f4cb42-d40e-4d0e-fc29-69c60f739dd7"
      },
      "source": [
        "from keras.models import Sequential\n",
        "from keras.layers import Dense, Activation\n",
        "\n",
        "model = Sequential() # モデルの作成\n",
        "# --- ここからコードを書く ---\n",
        "model.add(Dense(16, input_dim=4))\n",
        "model.add(Activation('relu'))\n",
        "model.add(Dense(16))\n",
        "model.add(Activation('relu'))\n",
        "# --- ここまで ---\n",
        "model.add(Dense(3))\n",
        "model.add(Activation('softmax')) \n",
        "model.compile(optimizer='sgd',loss='categorical_crossentropy',metrics=['accuracy']) # モデルのコンパイル\n",
        "\n",
        "print(model.summary())"
      ],
      "execution_count": 3,
      "outputs": [
        {
          "output_type": "stream",
          "text": [
            "Model: \"sequential_1\"\n",
            "_________________________________________________________________\n",
            "Layer (type)                 Output Shape              Param #   \n",
            "=================================================================\n",
            "dense_3 (Dense)              (None, 16)                80        \n",
            "_________________________________________________________________\n",
            "activation_3 (Activation)    (None, 16)                0         \n",
            "_________________________________________________________________\n",
            "dense_4 (Dense)              (None, 16)                272       \n",
            "_________________________________________________________________\n",
            "activation_4 (Activation)    (None, 16)                0         \n",
            "_________________________________________________________________\n",
            "dense_5 (Dense)              (None, 3)                 51        \n",
            "_________________________________________________________________\n",
            "activation_5 (Activation)    (None, 3)                 0         \n",
            "=================================================================\n",
            "Total params: 403\n",
            "Trainable params: 403\n",
            "Non-trainable params: 0\n",
            "_________________________________________________________________\n",
            "None\n"
          ],
          "name": "stdout"
        }
      ]
    },
    {
      "cell_type": "markdown",
      "metadata": {
        "id": "fe0ayRSi_I9t"
      },
      "source": [
        "## 学習\n",
        "構築したモデルを訓練しましょう。"
      ]
    },
    {
      "cell_type": "code",
      "metadata": {
        "id": "9GFCnKqR_Qpj",
        "colab": {
          "base_uri": "https://localhost:8080/"
        },
        "outputId": "277d7da4-1b5c-4fba-b596-78e9e44d41e5"
      },
      "source": [
        "history = model.fit(x_train, t_train, epochs=30, batch_size=8)"
      ],
      "execution_count": 4,
      "outputs": [
        {
          "output_type": "stream",
          "text": [
            "Epoch 1/30\n",
            "14/14 [==============================] - 1s 1ms/step - loss: 1.0084 - accuracy: 0.4710\n",
            "Epoch 2/30\n",
            "14/14 [==============================] - 0s 1ms/step - loss: 0.9616 - accuracy: 0.5730\n",
            "Epoch 3/30\n",
            "14/14 [==============================] - 0s 1ms/step - loss: 0.9019 - accuracy: 0.6949\n",
            "Epoch 4/30\n",
            "14/14 [==============================] - 0s 1ms/step - loss: 0.9005 - accuracy: 0.6869\n",
            "Epoch 5/30\n",
            "14/14 [==============================] - 0s 1ms/step - loss: 0.8508 - accuracy: 0.7648\n",
            "Epoch 6/30\n",
            "14/14 [==============================] - 0s 1ms/step - loss: 0.7827 - accuracy: 0.8380\n",
            "Epoch 7/30\n",
            "14/14 [==============================] - 0s 1ms/step - loss: 0.7944 - accuracy: 0.7593\n",
            "Epoch 8/30\n",
            "14/14 [==============================] - 0s 1ms/step - loss: 0.7039 - accuracy: 0.8463\n",
            "Epoch 9/30\n",
            "14/14 [==============================] - 0s 2ms/step - loss: 0.7247 - accuracy: 0.7822\n",
            "Epoch 10/30\n",
            "14/14 [==============================] - 0s 1ms/step - loss: 0.6827 - accuracy: 0.8559\n",
            "Epoch 11/30\n",
            "14/14 [==============================] - 0s 1ms/step - loss: 0.5951 - accuracy: 0.8659\n",
            "Epoch 12/30\n",
            "14/14 [==============================] - 0s 1ms/step - loss: 0.6015 - accuracy: 0.8323\n",
            "Epoch 13/30\n",
            "14/14 [==============================] - 0s 1ms/step - loss: 0.6208 - accuracy: 0.8062\n",
            "Epoch 14/30\n",
            "14/14 [==============================] - 0s 2ms/step - loss: 0.6129 - accuracy: 0.8421\n",
            "Epoch 15/30\n",
            "14/14 [==============================] - 0s 2ms/step - loss: 0.5056 - accuracy: 0.8477\n",
            "Epoch 16/30\n",
            "14/14 [==============================] - 0s 1ms/step - loss: 0.5744 - accuracy: 0.8152\n",
            "Epoch 17/30\n",
            "14/14 [==============================] - 0s 1ms/step - loss: 0.5294 - accuracy: 0.7884\n",
            "Epoch 18/30\n",
            "14/14 [==============================] - 0s 1ms/step - loss: 0.4832 - accuracy: 0.8571\n",
            "Epoch 19/30\n",
            "14/14 [==============================] - 0s 2ms/step - loss: 0.4954 - accuracy: 0.7877\n",
            "Epoch 20/30\n",
            "14/14 [==============================] - 0s 1ms/step - loss: 0.4777 - accuracy: 0.8127\n",
            "Epoch 21/30\n",
            "14/14 [==============================] - 0s 1ms/step - loss: 0.4276 - accuracy: 0.8837\n",
            "Epoch 22/30\n",
            "14/14 [==============================] - 0s 1ms/step - loss: 0.4372 - accuracy: 0.8124\n",
            "Epoch 23/30\n",
            "14/14 [==============================] - 0s 1ms/step - loss: 0.4112 - accuracy: 0.8423\n",
            "Epoch 24/30\n",
            "14/14 [==============================] - 0s 1ms/step - loss: 0.3973 - accuracy: 0.8549\n",
            "Epoch 25/30\n",
            "14/14 [==============================] - 0s 1ms/step - loss: 0.3789 - accuracy: 0.8408\n",
            "Epoch 26/30\n",
            "14/14 [==============================] - 0s 2ms/step - loss: 0.3327 - accuracy: 0.9068\n",
            "Epoch 27/30\n",
            "14/14 [==============================] - 0s 2ms/step - loss: 0.3363 - accuracy: 0.8640\n",
            "Epoch 28/30\n",
            "14/14 [==============================] - 0s 1ms/step - loss: 0.3845 - accuracy: 0.8143\n",
            "Epoch 29/30\n",
            "14/14 [==============================] - 0s 2ms/step - loss: 0.2992 - accuracy: 0.8997\n",
            "Epoch 30/30\n",
            "14/14 [==============================] - 0s 1ms/step - loss: 0.3009 - accuracy: 0.8728\n"
          ],
          "name": "stdout"
        }
      ]
    },
    {
      "cell_type": "markdown",
      "metadata": {
        "id": "A29cxq1qGYq2"
      },
      "source": [
        "## 学習の推移\n",
        "学習が問題なく行われたことを確認するために、学習の推移を見ましょう。"
      ]
    },
    {
      "cell_type": "code",
      "metadata": {
        "id": "bL97UMnRGY9V",
        "colab": {
          "base_uri": "https://localhost:8080/",
          "height": 265
        },
        "outputId": "3796bcd8-5f90-4675-e4d5-66dbd0b218d4"
      },
      "source": [
        "import matplotlib.pyplot as plt\n",
        "\n",
        "hist_loss = history.history['loss']  # 訓練用データの誤差\n",
        "hist_acc = history.history['accuracy']  # 検証用データの誤差\n",
        "\n",
        "plt.plot(np.arange(len(hist_loss)), hist_loss, label='loss')\n",
        "plt.plot(np.arange(len(hist_acc)), hist_acc, label='accuracy')\n",
        "plt.legend()\n",
        "plt.show()"
      ],
      "execution_count": 6,
      "outputs": [
        {
          "output_type": "display_data",
          "data": {
            "image/png": "[encoded data removed]",
            "text/plain": [
              "<Figure size 432x288 with 1 Axes>"
            ]
          },
          "metadata": {
            "tags": [],
            "needs_background": "light"
          }
        }
      ]
    },
    {
      "cell_type": "markdown",
      "metadata": {
        "id": "0bKt6ksiBewH"
      },
      "source": [
        "## 評価\n",
        "モデルの評価を行いましょう。"
      ]
    },
    {
      "cell_type": "code",
      "metadata": {
        "id": "jTsGsQoQCdhe",
        "colab": {
          "base_uri": "https://localhost:8080/"
        },
        "outputId": "ddd9692f-8b75-4ebd-c169-fe4d36305fe3"
      },
      "source": [
        "loss, accuracy = model.evaluate(x_test, t_test)\n",
        "print(loss, accuracy)"
      ],
      "execution_count": 7,
      "outputs": [
        {
          "output_type": "stream",
          "text": [
            "2/2 [==============================] - 0s 6ms/step - loss: 0.3632 - accuracy: 0.8421\n",
            "0.3632066547870636 0.8421052694320679\n"
          ],
          "name": "stdout"
        }
      ]
    },
    {
      "cell_type": "markdown",
      "metadata": {
        "id": "5ewSyftmChON"
      },
      "source": [
        "## 予測\n",
        "学習済みのモデルを使って、予測を行いましょう。  "
      ]
    },
    {
      "cell_type": "code",
      "metadata": {
        "id": "nIURso4FDPKt",
        "colab": {
          "base_uri": "https://localhost:8080/"
        },
        "outputId": "35699458-673d-48eb-c932-291469ac0ffa"
      },
      "source": [
        "model.predict(x_test)"
      ],
      "execution_count": 8,
      "outputs": [
        {
          "output_type": "execute_result",
          "data": {
            "text/plain": [
              "array([[0.05487047, 0.11554477, 0.8295847 ],\n",
              "       [0.0690005 , 0.77297235, 0.1580272 ],\n",
              "       [0.1385269 , 0.5891335 , 0.27233952],\n",
              "       [0.09683638, 0.33599013, 0.5671735 ],\n",
              "       [0.14556584, 0.6562405 , 0.19819358],\n",
              "       [0.10343509, 0.1183269 , 0.778238  ],\n",
              "       [0.15896171, 0.6928505 , 0.1481878 ],\n",
              "       [0.10099567, 0.5125976 , 0.3864067 ],\n",
              "       [0.08200376, 0.2882461 , 0.62975013],\n",
              "       [0.03969486, 0.12849025, 0.8318148 ],\n",
              "       [0.04879959, 0.10755526, 0.8436451 ],\n",
              "       [0.97703654, 0.0125231 , 0.01044043],\n",
              "       [0.06635454, 0.16034882, 0.7732967 ],\n",
              "       [0.95812   , 0.03415607, 0.00772388],\n",
              "       [0.9647414 , 0.02028595, 0.01497267],\n",
              "       [0.03991044, 0.8162245 , 0.143865  ],\n",
              "       [0.97802985, 0.01813187, 0.00383829],\n",
              "       [0.950747  , 0.00670634, 0.04254666],\n",
              "       [0.17367847, 0.40021938, 0.42610213],\n",
              "       [0.976995  , 0.01846347, 0.00454153],\n",
              "       [0.9711468 , 0.01513478, 0.01371835],\n",
              "       [0.01532869, 0.06715276, 0.91751856],\n",
              "       [0.07963239, 0.21664175, 0.7037259 ],\n",
              "       [0.04295315, 0.49178496, 0.46526194],\n",
              "       [0.03916099, 0.10895972, 0.8518793 ],\n",
              "       [0.11651646, 0.66778815, 0.21569538],\n",
              "       [0.09142232, 0.37131226, 0.53726536],\n",
              "       [0.10991768, 0.6151112 , 0.2749712 ],\n",
              "       [0.9592302 , 0.01280127, 0.02796852],\n",
              "       [0.96665615, 0.01718551, 0.01615837],\n",
              "       [0.9581879 , 0.00834205, 0.03347003],\n",
              "       [0.9730215 , 0.02469019, 0.00228829],\n",
              "       [0.07714208, 0.8057692 , 0.1170887 ],\n",
              "       [0.10456977, 0.40032876, 0.49510145],\n",
              "       [0.07570992, 0.2620878 , 0.66220224],\n",
              "       [0.9632866 , 0.019674  , 0.01703931],\n",
              "       [0.0871744 , 0.62114316, 0.2916824 ],\n",
              "       [0.07913079, 0.26965153, 0.65121764]], dtype=float32)"
            ]
          },
          "metadata": {
            "tags": []
          },
          "execution_count": 8
        }
      ]
    },
    {
      "cell_type": "markdown",
      "metadata": {
        "id": "UYDFfPrzIVQ4"
      },
      "source": [
        "# 解答例\n",
        "以下は解答例です。  \n",
        "どうしてもわからない時のみ、参考にしましょう。"
      ]
    },
    {
      "cell_type": "code",
      "metadata": {
        "id": "9bfmNLLYIW7m"
      },
      "source": [
        "# --- ここからコードを書く ---\n",
        "model.add(Dense(16, input_dim=4))\n",
        "model.add(Activation('relu'))\n",
        "model.add(Dense(16))\n",
        "model.add(Activation('relu'))\n",
        "# --- ここまで ---"
      ],
      "execution_count": null,
      "outputs": []
    }
  ]
}